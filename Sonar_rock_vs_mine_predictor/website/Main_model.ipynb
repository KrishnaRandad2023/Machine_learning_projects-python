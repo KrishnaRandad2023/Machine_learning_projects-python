{
 "cells": [
  {
   "cell_type": "code",
   "execution_count": 44,
   "id": "1476f40a",
   "metadata": {},
   "outputs": [
    {
     "name": "stdout",
     "output_type": "stream",
     "text": [
      "accuracy on training data 0.8342245989304813\n",
      "accuracy on test data 0.7619047619047619\n",
      "['R']\n"
     ]
    },
    {
     "data": {
      "text/plain": [
       "['Rock_vs_Mine.joblib']"
      ]
     },
     "execution_count": 44,
     "metadata": {},
     "output_type": "execute_result"
    }
   ],
   "source": [
    "import pandas as pd\n",
    "import numpy as np\n",
    "from sklearn.model_selection import train_test_split\n",
    "from sklearn.linear_model import LogisticRegression\n",
    "from sklearn.metrics import accuracy_score\n",
    "import joblib\n",
    "sonar_data = pd.read_csv('sonar.csv',header = None)\n",
    "X = sonar_data.drop(columns=60)\n",
    "y = sonar_data[60]\n",
    "X_train,X_test,y_train,y_test = train_test_split(X,y,test_size = 0.1,stratify = y,random_state = 1)\n",
    "model = LogisticRegression()\n",
    "model.fit(X_train,y_train)\n",
    "X_train_prediction = model.predict(X_train)\n",
    "Score = accuracy_score(X_train_prediction,y_train)\n",
    "print(\"accuracy on training data\" ,Score)\n",
    "X_test_prediction = model.predict(X_test)\n",
    "score = accuracy_score(X_test_prediction,y_test)\n",
    "print(\"accuracy on test data\" ,score)\n",
    "input_data = X.loc[1]\n",
    "input_data_as_array = np.asarray(input_data)\n",
    "arr_reshaped = input_data_as_array.reshape(1,-1)\n",
    "arr_reshaped\n",
    "prediction = model.predict(arr_reshaped)\n",
    "print(prediction)\n",
    "joblib.dump(model,'Rock_vs_Mine.joblib')"
   ]
  },
  {
   "cell_type": "code",
   "execution_count": null,
   "id": "488476dc",
   "metadata": {},
   "outputs": [],
   "source": []
  }
 ],
 "metadata": {
  "kernelspec": {
   "display_name": "Python 3 (ipykernel)",
   "language": "python",
   "name": "python3"
  },
  "language_info": {
   "codemirror_mode": {
    "name": "ipython",
    "version": 3
   },
   "file_extension": ".py",
   "mimetype": "text/x-python",
   "name": "python",
   "nbconvert_exporter": "python",
   "pygments_lexer": "ipython3",
   "version": "3.11.1"
  }
 },
 "nbformat": 4,
 "nbformat_minor": 5
}
